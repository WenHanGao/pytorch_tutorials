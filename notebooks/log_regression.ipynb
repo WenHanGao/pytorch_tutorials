{
 "cells": [
  {
   "cell_type": "code",
   "execution_count": 2,
   "metadata": {},
   "outputs": [],
   "source": [
    "import torch\n",
    "import torch.nn as nn\n",
    "import numpy as np\n",
    "from sklearn import datasets\n",
    "from sklearn.preprocessing import StandardScaler\n",
    "from sklearn.model_selection import train_test_split\n",
    "import matplotlib.pyplot as plt"
   ]
  },
  {
   "cell_type": "markdown",
   "metadata": {},
   "source": [
    "# Data Preparation"
   ]
  },
  {
   "cell_type": "code",
   "execution_count": 4,
   "metadata": {},
   "outputs": [
    {
     "name": "stdout",
     "output_type": "stream",
     "text": [
      "(569, 30) (569,)\n"
     ]
    }
   ],
   "source": [
    "breast_cancer_data = datasets.load_breast_cancer()\n",
    "X, y = breast_cancer_data.data, breast_cancer_data.target\n",
    "print(X.shape, y.shape)\n",
    "\n",
    "n_samples, n_features = X.shape"
   ]
  },
  {
   "cell_type": "code",
   "execution_count": 5,
   "metadata": {},
   "outputs": [],
   "source": [
    "X_train, X_test, y_train, y_test = train_test_split(X, y, test_size=0.3, random_state=1)\n",
    "\n",
    "scaler = StandardScaler()\n",
    "scaler.fit(X_train)\n",
    "X_train_scaled = scaler.transform(X_train)\n",
    "X_test_scaled = scaler.transform(X_test)\n"
   ]
  },
  {
   "cell_type": "code",
   "execution_count": 13,
   "metadata": {},
   "outputs": [],
   "source": [
    "X_train_torch = torch.from_numpy(X_train_scaled.astype(np.float32))\n",
    "X_test_torch = torch.from_numpy(X_test_scaled.astype(np.float32))\n",
    "y_train_torch = torch.from_numpy(y_train.astype(np.float32))\n",
    "y_test_torch = torch.from_numpy(y_test.astype(np.float32))\n",
    "\n",
    "y_train_torch = y_train_torch.view(y_train_torch.shape[0], 1)\n",
    "y_test_torch = y_test_torch.view(y_test_torch.shape[0], 1)"
   ]
  },
  {
   "cell_type": "markdown",
   "metadata": {},
   "source": [
    "# Define Model"
   ]
  },
  {
   "cell_type": "code",
   "execution_count": 73,
   "metadata": {},
   "outputs": [],
   "source": [
    "# f = w*x + b, then pass through a sigmoid function\n",
    "\n",
    "class LogisticRegression(nn.Module):\n",
    "    def __init__(self, n_features):\n",
    "        super(LogisticRegression, self).__init__()\n",
    "        \n",
    "        # define layers\n",
    "        self.lin = nn.Linear(in_features=n_features, out_features=1)\n",
    "    \n",
    "    def forward(self, X):\n",
    "        y_pred = torch.sigmoid(self.lin(X))\n",
    "        return y_pred\n",
    "\n",
    "model = LogisticRegression(n_features=n_features)\n",
    "criterion = nn.BCELoss() # binary cross entropy loss\n",
    "lr = 0.1\n",
    "optimizer = torch.optim.Adam(params=model.parameters(), lr=lr, weight_decay=0.1)\n",
    "n_epoch = 1000"
   ]
  },
  {
   "cell_type": "code",
   "execution_count": 74,
   "metadata": {},
   "outputs": [
    {
     "name": "stdout",
     "output_type": "stream",
     "text": [
      "epoch 100: Loss=0.1330. Train Acc=0.9824. Test accuracy = 0.9649\n",
      "epoch 200: Loss=0.1335. Train Acc=0.9824. Test accuracy = 0.9649\n",
      "epoch 300: Loss=0.1335. Train Acc=0.9824. Test accuracy = 0.9649\n",
      "epoch 400: Loss=0.1335. Train Acc=0.9824. Test accuracy = 0.9649\n",
      "epoch 500: Loss=0.1335. Train Acc=0.9824. Test accuracy = 0.9649\n",
      "epoch 600: Loss=0.1335. Train Acc=0.9824. Test accuracy = 0.9649\n",
      "epoch 700: Loss=0.1335. Train Acc=0.9824. Test accuracy = 0.9649\n",
      "epoch 800: Loss=0.1335. Train Acc=0.9824. Test accuracy = 0.9649\n",
      "epoch 900: Loss=0.1335. Train Acc=0.9824. Test accuracy = 0.9649\n",
      "epoch 1000: Loss=0.1335. Train Acc=0.9824. Test accuracy = 0.9649\n",
      "Test accuracy = 0.9649\n"
     ]
    }
   ],
   "source": [
    "for epoch in range(n_epoch):\n",
    "    y_pred = model(X_train_torch)\n",
    "    loss_val = criterion(y_pred, y_train_torch)\n",
    "    loss_val.backward()\n",
    "    optimizer.step()\n",
    "    optimizer.zero_grad()\n",
    "\n",
    "    with torch.no_grad():\n",
    "        y_pred_cls = y_pred.round()\n",
    "        acc = y_pred_cls.eq(y_train_torch).sum() / float(y_train_torch.shape[0])\n",
    "        test_prod = model(X_test_torch)\n",
    "        test_pred = test_prod.round() # 1 if >= 0.5 else 0\n",
    "        test_acc = test_pred.eq(y_test_torch).sum() / float(y_test_torch.shape[0])\n",
    "\n",
    "    if (epoch+1) % 100 == 0:\n",
    "        print(f'epoch {epoch+1}: Loss={loss_val.item():.4f}. Train Acc={acc:.4f}. Test accuracy = {test_acc:.4f}')\n",
    "\n",
    "with torch.no_grad():\n",
    "    test_prod = model(X_test_torch)\n",
    "    test_pred = test_prod.round() # 1 if >= 0.5 else 0\n",
    "    acc = test_pred.eq(y_test_torch).sum() / float(y_test_torch.shape[0])\n",
    "    print(f'Test accuracy = {acc:.4f}')\n",
    "\n",
    "\n"
   ]
  },
  {
   "cell_type": "code",
   "execution_count": null,
   "metadata": {},
   "outputs": [],
   "source": []
  }
 ],
 "metadata": {
  "interpreter": {
   "hash": "b021afdc3cc8171df3962be7c6318e81a142fe102e6425e17f14e32e24ab1425"
  },
  "kernelspec": {
   "display_name": "Python 3.8.6 64-bit ('.venv': poetry)",
   "name": "python3"
  },
  "language_info": {
   "codemirror_mode": {
    "name": "ipython",
    "version": 3
   },
   "file_extension": ".py",
   "mimetype": "text/x-python",
   "name": "python",
   "nbconvert_exporter": "python",
   "pygments_lexer": "ipython3",
   "version": "3.8.6"
  },
  "orig_nbformat": 4
 },
 "nbformat": 4,
 "nbformat_minor": 2
}
