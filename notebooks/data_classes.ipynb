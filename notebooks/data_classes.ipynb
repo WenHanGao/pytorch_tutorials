{
 "cells": [
  {
   "cell_type": "code",
   "execution_count": 2,
   "metadata": {},
   "outputs": [],
   "source": [
    "import torch\n",
    "import torchvision\n",
    "import torch.nn as nn\n",
    "from torch.utils.data import Dataset, DataLoader\n",
    "import numpy as np\n",
    "import math\n",
    "from typing import Tuple"
   ]
  },
  {
   "cell_type": "markdown",
   "metadata": {},
   "source": [
    "Data source : https://github.com/python-engineer/pytorchTutorial/tree/master/data/wine"
   ]
  },
  {
   "cell_type": "code",
   "execution_count": 98,
   "metadata": {},
   "outputs": [
    {
     "name": "stdout",
     "output_type": "stream",
     "text": [
      "tensor([2.8460e+01, 3.4200e+00, 4.8600e+00, 3.1200e+01, 2.5400e+02, 5.6000e+00,\n",
      "        6.1200e+00, 5.6000e-01, 4.5800e+00, 1.1280e+01, 2.0800e+00, 7.8400e+00,\n",
      "        2.1300e+03]) tensor([1.])\n"
     ]
    }
   ],
   "source": [
    "class WineDataset(Dataset):\n",
    "    def __init__(self, transform=None) -> None:\n",
    "        xy = np.loadtxt('../data/wine.csv', delimiter=',', dtype=np.float32, skiprows=1)\n",
    "        self.x = xy[:,1:]\n",
    "        self.y = xy[:,[0]] # ensure shape is (n x 1)\n",
    "        self.n_samples = xy.shape[0]\n",
    "        self.transform = transform\n",
    "\n",
    "    def __getitem__(self, index) -> Tuple:\n",
    "        sample = self.x[index], self.y[index]\n",
    "        if self.transform:\n",
    "            sample = self.transform(sample)\n",
    "        return sample\n",
    "\n",
    "    def __len__(self) -> int:\n",
    "        return self.n_samples\n",
    "\n",
    "class ToTensor: # a transformer\n",
    "    def __call__(self, sample):\n",
    "        inputs, labels = sample\n",
    "        return torch.from_numpy(inputs), torch.from_numpy(labels)\n",
    "\n",
    "class MulTransform:\n",
    "    def __init__(self, factor) -> None:\n",
    "        self.factor = factor\n",
    "    \n",
    "    def __call__(self, sample):\n",
    "        inputs, labels = sample\n",
    "        return self.factor * inputs, labels\n",
    "\n",
    "composed = torchvision.transforms.Compose([ToTensor(), MulTransform(factor=2)])\n",
    "dataset = WineDataset(transform=composed)\n",
    "first_data = dataset[0]\n",
    "features, labels = first_data\n",
    "print(features, labels)\n"
   ]
  },
  {
   "cell_type": "code",
   "execution_count": 99,
   "metadata": {},
   "outputs": [
    {
     "name": "stdout",
     "output_type": "stream",
     "text": [
      "178 45\n"
     ]
    }
   ],
   "source": [
    "n_epoch = 2\n",
    "total_samples = len(dataset)\n",
    "n_iterations = math.ceil(total_samples / 4)\n",
    "print(total_samples, n_iterations)\n"
   ]
  },
  {
   "cell_type": "code",
   "execution_count": 100,
   "metadata": {},
   "outputs": [
    {
     "data": {
      "text/plain": [
       "13"
      ]
     },
     "execution_count": 100,
     "metadata": {},
     "output_type": "execute_result"
    }
   ],
   "source": [
    "n_features = dataset[0][0].shape[0]\n",
    "n_features"
   ]
  },
  {
   "cell_type": "code",
   "execution_count": 139,
   "metadata": {},
   "outputs": [],
   "source": [
    "class NueralNet2(nn.Module):\n",
    "    def __init__(self, input_size, hidden_size, num_classes):\n",
    "        super(NueralNet2, self).__init__()\n",
    "        self.linear1 = nn.Linear(in_features=input_size, out_features=hidden_size)\n",
    "        self.relu = nn.ReLU() # activation function\n",
    "        self.linear2 = nn.Linear(in_features=hidden_size, out_features=num_classes)\n",
    "\n",
    "    def forward(self, X):\n",
    "        out = self.linear1(X)\n",
    "        out = self.relu(out)\n",
    "        out = self.linear2(out)\n",
    "        # no soft max at the end\n",
    "        return out\n",
    "\n",
    "model = NueralNet2(input_size=n_features, hidden_size=n_features*2, num_classes=3+1) # need to plus 1 for cross entropy loss\n",
    "criterion = nn.CrossEntropyLoss() # applies softmax\n",
    "lr = 0.01\n",
    "alpha = 0.5\n",
    "optimizer = torch.optim.Adam(params=model.parameters(), lr=lr, weight_decay=alpha)\n",
    "n_epoch = 100\n"
   ]
  },
  {
   "cell_type": "code",
   "execution_count": 140,
   "metadata": {},
   "outputs": [
    {
     "name": "stdout",
     "output_type": "stream",
     "text": [
      "epoch 10: Loss=56.286. Average Acc=0.661\n",
      "epoch 20: Loss=38.906. Average Acc=0.594\n",
      "epoch 30: Loss=35.893. Average Acc=0.644\n",
      "epoch 40: Loss=32.190. Average Acc=0.617\n",
      "epoch 50: Loss=34.932. Average Acc=0.617\n",
      "epoch 60: Loss=35.153. Average Acc=0.628\n",
      "epoch 70: Loss=35.721. Average Acc=0.622\n",
      "epoch 80: Loss=33.066. Average Acc=0.633\n",
      "epoch 90: Loss=35.115. Average Acc=0.622\n",
      "epoch 100: Loss=34.380. Average Acc=0.633\n"
     ]
    }
   ],
   "source": [
    "dataloader = DataLoader(dataset, batch_size=4, shuffle=True, num_workers=2)\n",
    "\n",
    "for epoch in range(n_epoch):\n",
    "    total_loss = 0\n",
    "    acc_tracker = []\n",
    "    for i, (batch_X, batch_y) in enumerate(dataloader):\n",
    "        y_pred = model(batch_X)\n",
    "        batch_y = torch.squeeze(batch_y).type(torch.LongTensor)\n",
    "        batch_loss = criterion(y_pred, batch_y)\n",
    "        batch_loss.backward()\n",
    "        optimizer.step()\n",
    "        optimizer.zero_grad()\n",
    "        with torch.no_grad():\n",
    "            total_loss += batch_loss.item()\n",
    "            _, y_pred_cls = torch.max(y_pred, 1)\n",
    "            acc = y_pred_cls.eq(batch_y).sum() / batch_y.shape[0]\n",
    "            acc_tracker.append(acc)\n",
    "    if (epoch+1) % 10 == 0:\n",
    "        print(f'epoch {epoch+1}: Loss={total_loss:.3f}. Average Acc={np.mean(acc_tracker):.3f}')\n",
    "\n"
   ]
  },
  {
   "cell_type": "code",
   "execution_count": null,
   "metadata": {},
   "outputs": [],
   "source": []
  }
 ],
 "metadata": {
  "interpreter": {
   "hash": "b021afdc3cc8171df3962be7c6318e81a142fe102e6425e17f14e32e24ab1425"
  },
  "kernelspec": {
   "display_name": "Python 3.8.6 64-bit ('.venv': poetry)",
   "name": "python3"
  },
  "language_info": {
   "codemirror_mode": {
    "name": "ipython",
    "version": 3
   },
   "file_extension": ".py",
   "mimetype": "text/x-python",
   "name": "python",
   "nbconvert_exporter": "python",
   "pygments_lexer": "ipython3",
   "version": "3.8.6"
  },
  "orig_nbformat": 4
 },
 "nbformat": 4,
 "nbformat_minor": 2
}
