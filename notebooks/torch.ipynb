{
 "cells": [
  {
   "cell_type": "code",
   "execution_count": 1,
   "metadata": {},
   "outputs": [
    {
     "data": {
      "text/plain": [
       "'/home/wenhan/Documents/ML-Projects/torch-proj/.venv/bin/python'"
      ]
     },
     "execution_count": 1,
     "metadata": {},
     "output_type": "execute_result"
    }
   ],
   "source": [
    "import sys\n",
    "import torch\n",
    "\n",
    "sys.executable"
   ]
  },
  {
   "cell_type": "code",
   "execution_count": 2,
   "metadata": {},
   "outputs": [
    {
     "name": "stdout",
     "output_type": "stream",
     "text": [
      "tensor([[0.0235, 0.2433, 0.3121],\n",
      "        [0.9126, 0.6306, 0.7220],\n",
      "        [0.0261, 0.5044, 0.3942],\n",
      "        [0.8609, 0.9280, 0.5298],\n",
      "        [0.6101, 0.1042, 0.9497]])\n"
     ]
    },
    {
     "data": {
      "text/plain": [
       "True"
      ]
     },
     "execution_count": 2,
     "metadata": {},
     "output_type": "execute_result"
    }
   ],
   "source": [
    "x = torch.rand(5, 3)\n",
    "print(x)\n",
    "torch.cuda.is_available()"
   ]
  },
  {
   "cell_type": "markdown",
   "metadata": {},
   "source": [
    "# Autograd"
   ]
  },
  {
   "cell_type": "markdown",
   "metadata": {},
   "source": [
    "## Gradient compute"
   ]
  },
  {
   "cell_type": "code",
   "execution_count": 3,
   "metadata": {},
   "outputs": [
    {
     "data": {
      "text/plain": [
       "tensor([-0.4106,  0.9740, -0.4584], requires_grad=True)"
      ]
     },
     "execution_count": 3,
     "metadata": {},
     "output_type": "execute_result"
    }
   ],
   "source": [
    "x = torch.randn(3, requires_grad=True)\n",
    "x"
   ]
  },
  {
   "cell_type": "code",
   "execution_count": 4,
   "metadata": {},
   "outputs": [
    {
     "data": {
      "text/plain": [
       "tensor([1.5894, 2.9740, 1.5416], grad_fn=<AddBackward0>)"
      ]
     },
     "execution_count": 4,
     "metadata": {},
     "output_type": "execute_result"
    }
   ],
   "source": [
    "y = x + 2\n",
    "y"
   ]
  },
  {
   "cell_type": "code",
   "execution_count": 5,
   "metadata": {},
   "outputs": [
    {
     "data": {
      "text/plain": [
       "tensor([ 5.0521, 17.6891,  4.7531], grad_fn=<MulBackward0>)"
      ]
     },
     "execution_count": 5,
     "metadata": {},
     "output_type": "execute_result"
    }
   ],
   "source": [
    "z1 = y * y * 2\n",
    "z1"
   ]
  },
  {
   "cell_type": "code",
   "execution_count": 6,
   "metadata": {},
   "outputs": [],
   "source": [
    "v = torch.tensor([.1, 1., .001], dtype=torch.float64) \n",
    "z1.backward(v) # does not need v if z is scalar"
   ]
  },
  {
   "cell_type": "code",
   "execution_count": 7,
   "metadata": {},
   "outputs": [
    {
     "data": {
      "text/plain": [
       "tensor([6.3574e-01, 1.1896e+01, 6.1664e-03])"
      ]
     },
     "execution_count": 7,
     "metadata": {},
     "output_type": "execute_result"
    }
   ],
   "source": [
    "x.grad"
   ]
  },
  {
   "cell_type": "code",
   "execution_count": 8,
   "metadata": {},
   "outputs": [
    {
     "data": {
      "text/plain": [
       "tensor([ 2.7549, 15.8612,  2.0616])"
      ]
     },
     "execution_count": 8,
     "metadata": {},
     "output_type": "execute_result"
    }
   ],
   "source": [
    "z2 = (y * y * 2).mean()\n",
    "z2.backward()\n",
    "x.grad"
   ]
  },
  {
   "cell_type": "markdown",
   "metadata": {},
   "source": [
    "## Skip Gradient compute"
   ]
  },
  {
   "cell_type": "code",
   "execution_count": 9,
   "metadata": {},
   "outputs": [
    {
     "data": {
      "text/plain": [
       "tensor([-1.1107, -0.8836,  1.1742], requires_grad=True)"
      ]
     },
     "execution_count": 9,
     "metadata": {},
     "output_type": "execute_result"
    }
   ],
   "source": [
    "x = torch.randn(3, requires_grad=True)\n",
    "x"
   ]
  },
  {
   "cell_type": "code",
   "execution_count": 10,
   "metadata": {},
   "outputs": [
    {
     "data": {
      "text/plain": [
       "tensor([True, True, True])"
      ]
     },
     "execution_count": 10,
     "metadata": {},
     "output_type": "execute_result"
    }
   ],
   "source": [
    "y2 = x.detach() # same value as x, but no need grad\n",
    "y2 == x"
   ]
  },
  {
   "cell_type": "code",
   "execution_count": 11,
   "metadata": {},
   "outputs": [
    {
     "name": "stdout",
     "output_type": "stream",
     "text": [
      "tensor([0.8893, 1.1164, 3.1742])\n"
     ]
    }
   ],
   "source": [
    "with torch.no_grad():\n",
    "    y3 = x + 2\n",
    "    print(y3)"
   ]
  },
  {
   "cell_type": "markdown",
   "metadata": {},
   "source": [
    "# Backprop"
   ]
  },
  {
   "cell_type": "code",
   "execution_count": 12,
   "metadata": {},
   "outputs": [
    {
     "name": "stdout",
     "output_type": "stream",
     "text": [
      "tensor(1., grad_fn=<PowBackward0>)\n",
      "tensor(-2.)\n"
     ]
    }
   ],
   "source": [
    "x = torch.tensor(1.)\n",
    "y = torch.tensor(2.)\n",
    "weight = torch.tensor(1., requires_grad=True)\n",
    "\n",
    "# forward pass - liner regression\n",
    "y_hat = weight * x\n",
    "loss = (y_hat - y)**2\n",
    "print(loss)\n",
    "\n",
    "# backprop\n",
    "loss.backward()\n",
    "print(weight.grad)\n",
    "\n",
    "# update weights and repeat"
   ]
  },
  {
   "cell_type": "markdown",
   "metadata": {},
   "source": [
    "# Gradient Descent"
   ]
  },
  {
   "cell_type": "markdown",
   "metadata": {},
   "source": [
    "## Manual linear regression"
   ]
  },
  {
   "cell_type": "code",
   "execution_count": 268,
   "metadata": {},
   "outputs": [
    {
     "data": {
      "text/plain": [
       "(array([1., 2., 3., 4.]), array([ 5., 10., 15., 20.]), 1.6243453636632417, 4)"
      ]
     },
     "execution_count": 268,
     "metadata": {},
     "output_type": "execute_result"
    }
   ],
   "source": [
    "import numpy as np\n",
    "\n",
    "np.random.seed(1)\n",
    "# f = 5 * x\n",
    "\n",
    "in_x = np.arange(1, 5, 1)\n",
    "out_y = in_x * 5\n",
    "x = np.array(in_x, dtype=np.float64)\n",
    "y = np.array(out_y, dtype=np.float64)\n",
    "N = x.shape[0]\n",
    "w = np.random.randn(1)[0]\n",
    "x, y, w, N"
   ]
  },
  {
   "cell_type": "markdown",
   "metadata": {},
   "source": [
    "f = 1/N (XB - Y).T (XB - Y) = 1/n [ (BtXt - Yt) (XB - Y) ] \\\n",
    "  = 1/N [ BtXtXB - BtXtY - YtXB + YtY ] \\\n",
    "  = 1/N [ BtXtXB - 2YtXB - YtY ] \\\n",
    "df/dB = 1/N [ 2XtXB - 2YtX ]"
   ]
  },
  {
   "cell_type": "code",
   "execution_count": 269,
   "metadata": {},
   "outputs": [],
   "source": [
    "def forward(x, w):\n",
    "    return w*x\n",
    "\n",
    "def loss(x, w, y):\n",
    "    return sum((y-x*w)**2) / N\n",
    "\n",
    "def gradient(x, w, y):\n",
    "    return (2 * np.dot(x, x) * w - 2 * np.dot(y, x))/N"
   ]
  },
  {
   "cell_type": "code",
   "execution_count": 270,
   "metadata": {},
   "outputs": [
    {
     "name": "stdout",
     "output_type": "stream",
     "text": [
      "initial pred: f(5) = 8.122\n"
     ]
    }
   ],
   "source": [
    "print(f'initial pred: f(5) = {forward(5, w):.3f}')"
   ]
  },
  {
   "cell_type": "code",
   "execution_count": 271,
   "metadata": {},
   "outputs": [
    {
     "data": {
      "text/plain": [
       "(85.46283167866389, -50.63481954505137)"
      ]
     },
     "execution_count": 271,
     "metadata": {},
     "output_type": "execute_result"
    }
   ],
   "source": [
    "loss(x, w, y), gradient(x, w, y)"
   ]
  },
  {
   "cell_type": "code",
   "execution_count": 273,
   "metadata": {},
   "outputs": [
    {
     "name": "stdout",
     "output_type": "stream",
     "text": [
      "epoch 1: w = 2.131, loss = 85.46283168\n",
      "epoch 11: w = 4.435, loss = 3.31249928\n",
      "epoch 21: w = 4.889, loss = 0.12839092\n",
      "epoch 31: w = 4.978, loss = 0.00497637\n",
      "epoch 41: w = 4.996, loss = 0.00019288\n",
      "epoch 51: w = 4.999, loss = 0.00000748\n",
      "epoch 61: w = 5.000, loss = 0.00000029\n",
      "epoch 71: w = 5.000, loss = 0.00000001\n",
      "epoch 81: w = 5.000, loss = 0.00000000\n",
      "epoch 91: w = 5.000, loss = 0.00000000\n",
      "final pred: f(5) = 25.000\n"
     ]
    }
   ],
   "source": [
    "lr = 0.01\n",
    "max_iter = 100\n",
    "w_copy = w.copy()\n",
    "for epoch in range(max_iter):\n",
    "    y_pred = forward(x, w_copy)\n",
    "    loss_val = loss(x, w_copy, y)\n",
    "    grad_w = gradient(x, w_copy, y)\n",
    "    w_copy += -grad_w*lr\n",
    "    if epoch % 10 == 0:\n",
    "        print(f'epoch {epoch+1}: w = {w_copy:.3f}, loss = {loss_val:.8f}')\n",
    "print(f'final pred: f(5) = {forward(5, w_copy):.3f}')"
   ]
  },
  {
   "cell_type": "markdown",
   "metadata": {},
   "source": [
    "## PyTorch"
   ]
  },
  {
   "cell_type": "code",
   "execution_count": 278,
   "metadata": {},
   "outputs": [],
   "source": [
    "import torch.nn as nn"
   ]
  },
  {
   "cell_type": "code",
   "execution_count": 293,
   "metadata": {},
   "outputs": [
    {
     "name": "stdout",
     "output_type": "stream",
     "text": [
      "Input and output size: torch.Size([4, 1]) torch.Size([4, 1])\n",
      "epoch 1: w = 7.137, loss = 134.40914917\n",
      "epoch 31: w = 4.837, loss = 0.04077616\n",
      "epoch 61: w = 4.935, loss = 0.00658181\n",
      "epoch 91: w = 4.974, loss = 0.00106242\n",
      "epoch 121: w = 4.989, loss = 0.00017149\n",
      "epoch 151: w = 4.996, loss = 0.00002768\n",
      "epoch 181: w = 4.998, loss = 0.00000447\n",
      "epoch 211: w = 4.999, loss = 0.00000072\n",
      "epoch 241: w = 5.000, loss = 0.00000012\n",
      "epoch 271: w = 5.000, loss = 0.00000002\n",
      "final pred: f(5) = 25.000\n"
     ]
    }
   ],
   "source": [
    "X = torch.tensor([[ele] for ele in in_x], dtype=torch.float32) # needs to be 2-D array\n",
    "y = torch.tensor([[ele] for ele in out_y], dtype=torch.float32) # needs to be 2_D array\n",
    "print('Input and output size:', X.shape, y.shape)\n",
    "\n",
    "n_samples, n_features = X.shape\n",
    "\n",
    "class LinearRegression(nn.Module):\n",
    "    def __init__(self, input_dim, output_dim):\n",
    "        super(LinearRegression, self).__init__()\n",
    "        # define layers\n",
    "        self.lin = nn.Linear(input_dim, output_dim)\n",
    "\n",
    "    def forward(self, X):\n",
    "        return self.lin(X)\n",
    "\n",
    "# model = nn.Linear(in_features=n_features, out_features=n_features)\n",
    "model = LinearRegression(input_dim=n_features, output_dim=n_features)\n",
    "\n",
    "lr = 0.1\n",
    "max_iter = 300\n",
    "loss = nn.MSELoss()\n",
    "optimizer = torch.optim.SGD(params=model.parameters(), lr=lr)\n",
    "for epoch in range(max_iter):\n",
    "    y_pred = model(X)\n",
    "    loss_val = loss(y, y_pred)\n",
    "\n",
    "    loss_val.backward()\n",
    "    \n",
    "    optimizer.step()\n",
    "\n",
    "    optimizer.zero_grad()\n",
    "\n",
    "    if epoch % 30 == 0:\n",
    "        [weights, biase] = model.parameters() # weight is a list of list\n",
    "        print(f'epoch {epoch+1}: w = {weights[0][0].item():.3f}, loss = {loss_val:.8f}')\n",
    "print(f'final pred: f(5) = {model(torch.tensor([5], dtype=torch.float32)).item():.3f}')"
   ]
  },
  {
   "cell_type": "code",
   "execution_count": null,
   "metadata": {},
   "outputs": [],
   "source": []
  }
 ],
 "metadata": {
  "interpreter": {
   "hash": "b021afdc3cc8171df3962be7c6318e81a142fe102e6425e17f14e32e24ab1425"
  },
  "kernelspec": {
   "display_name": "Python 3.8.6 64-bit ('.venv': poetry)",
   "name": "python3"
  },
  "language_info": {
   "codemirror_mode": {
    "name": "ipython",
    "version": 3
   },
   "file_extension": ".py",
   "mimetype": "text/x-python",
   "name": "python",
   "nbconvert_exporter": "python",
   "pygments_lexer": "ipython3",
   "version": "3.8.6"
  },
  "orig_nbformat": 4
 },
 "nbformat": 4,
 "nbformat_minor": 2
}
